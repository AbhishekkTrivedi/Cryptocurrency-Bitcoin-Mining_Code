{
  "nbformat": 4,
  "nbformat_minor": 0,
  "metadata": {
    "colab": {
      "name": "Bitcoin Mining Code.ipynb",
      "provenance": [],
      "authorship_tag": "ABX9TyOghoyktBoDVPxO4cTx8qjp",
      "include_colab_link": true
    },
    "kernelspec": {
      "name": "python3",
      "display_name": "Python 3"
    },
    "language_info": {
      "name": "python"
    }
  },
  "cells": [
    {
      "cell_type": "markdown",
      "metadata": {
        "id": "view-in-github",
        "colab_type": "text"
      },
      "source": [
        "<a href=\"https://colab.research.google.com/github/tecXworld/Cryptocurrency-Bitcoin-Mining_Code/blob/main/Bitcoin_Mining_Code.ipynb\" target=\"_parent\"><img src=\"https://colab.research.google.com/assets/colab-badge.svg\" alt=\"Open In Colab\"/></a>"
      ]
    },
    {
      "cell_type": "code",
      "metadata": {
        "id": "xOzVgUJUyI87"
      },
      "source": [
        "from hashlib import sha256\n",
        "import time"
      ],
      "execution_count": null,
      "outputs": []
    },
    {
      "cell_type": "code",
      "metadata": {
        "id": "E4KBa4VLzdgE"
      },
      "source": [
        "def SHA256(x):\n",
        "  return sha256(x.encode(\"ascii\")).hexdigest()"
      ],
      "execution_count": null,
      "outputs": []
    },
    {
      "cell_type": "code",
      "metadata": {
        "id": "qdDd4qAfhiIQ"
      },
      "source": [
        "MAX_NONCE = 1000000000"
      ],
      "execution_count": null,
      "outputs": []
    },
    {
      "cell_type": "code",
      "metadata": {
        "id": "LxM4ZiMcdgSF"
      },
      "source": [
        "#Defining Parametr's \n",
        "\n",
        "\n",
        "def mine(block_number, transaction, previous_hash, prefix_zeros):\n",
        "  prefix_str = '0'*prefix_zeros\n",
        "  for nonce in range (MAX_NONCE):\n",
        "     x = str(block_number) + transaction + previous_hash + str(nonce)\n",
        "     new_hash = SHA256(x)\n",
        "     if new_hash.startswith(prefix_str):\n",
        "       print (f\"Successfully mined with nonce value :{nonce}\") \n",
        "       return new_hash\n",
        "\n",
        "  raise BaseException(f\"Not able to mine after trying {MAX_NONCE} times\")"
      ],
      "execution_count": null,
      "outputs": []
    },
    {
      "cell_type": "code",
      "metadata": {
        "id": "7fKUOG-80tOy"
      },
      "source": [
        "#if __name__ =='__main__':\n",
        " # print(SHA256(\"abhi\"))"
      ],
      "execution_count": null,
      "outputs": []
    },
    {
      "cell_type": "markdown",
      "metadata": {
        "id": "Yz1l4jP70fBQ"
      },
      "source": [
        "Create some dummy transaction's"
      ]
    },
    {
      "cell_type": "code",
      "metadata": {
        "id": "aAvEgGmn1juS"
      },
      "source": [
        "if __name__ =='__main__':\n",
        "  transaction='''\n",
        "  Abhishek->AZ->Aman->30\n",
        "  mihir->abhilash->40\n",
        "  '''"
      ],
      "execution_count": null,
      "outputs": []
    },
    {
      "cell_type": "markdown",
      "metadata": {
        "id": "jh3iaf1nnwEd"
      },
      "source": [
        "Let's Start Mining !!"
      ]
    },
    {
      "cell_type": "code",
      "metadata": {
        "colab": {
          "base_uri": "https://localhost:8080/"
        },
        "id": "IyxzHWUUekTy",
        "outputId": "7aaea7fc-07e2-46d9-fe27-3f347c461d2d"
      },
      "source": [
        "difficulty=5\n",
        "start_1 = time.time()\n",
        "new_hash_1 = mine (5,transaction,'0000000xa036944e29568d0cff17edbe038f81208fecf9a66be9a2b8321c6ec7',difficulty)\n",
        "total_time_1= str((time.time()- start_1))"
      ],
      "execution_count": null,
      "outputs": [
        {
          "output_type": "stream",
          "text": [
            "Successfully mined with nonce value :52649\n"
          ],
          "name": "stdout"
        }
      ]
    },
    {
      "cell_type": "code",
      "metadata": {
        "colab": {
          "base_uri": "https://localhost:8080/"
        },
        "id": "a0WHhw5zewIS",
        "outputId": "0f586b2e-59b2-4e7c-d68a-97d8ccf193dc"
      },
      "source": [
        "print(new_hash_1)"
      ],
      "execution_count": null,
      "outputs": [
        {
          "output_type": "stream",
          "text": [
            "0000018553a2f496445851c87eaa6b74724b2958ac557d3dd501b8d9136613af\n"
          ],
          "name": "stdout"
        }
      ]
    },
    {
      "cell_type": "code",
      "metadata": {
        "colab": {
          "base_uri": "https://localhost:8080/"
        },
        "id": "alqyeeBlmPrH",
        "outputId": "1989977e-8e27-45fa-a537-af0637c8cd0c"
      },
      "source": [
        "print(total_time_1)"
      ],
      "execution_count": null,
      "outputs": [
        {
          "output_type": "stream",
          "text": [
            "0.12330245971679688\n"
          ],
          "name": "stdout"
        }
      ]
    },
    {
      "cell_type": "code",
      "metadata": {
        "colab": {
          "base_uri": "https://localhost:8080/"
        },
        "id": "uHs25TJhodGG",
        "outputId": "93aed062-f9a0-4c6b-edf8-92d53a77612a"
      },
      "source": [
        "difficulty=6\n",
        "start_2 = time.time()\n",
        "new_hash_2 = mine (8,transaction,'0000000xa036944e29568d0cff17edbe038f81208fecf9a66be9a2b8321c6ec7',difficulty)\n",
        "total_time_2= str((time.time()- start_2))"
      ],
      "execution_count": null,
      "outputs": [
        {
          "output_type": "stream",
          "text": [
            "Successfully mined with nonce value :4036478\n"
          ],
          "name": "stdout"
        }
      ]
    },
    {
      "cell_type": "code",
      "metadata": {
        "colab": {
          "base_uri": "https://localhost:8080/"
        },
        "id": "oqZ16rSJm1H_",
        "outputId": "c363957d-4f1c-4d0f-f50f-629bb20166b0"
      },
      "source": [
        "print(new_hash_2)"
      ],
      "execution_count": null,
      "outputs": [
        {
          "output_type": "stream",
          "text": [
            "000000094d5476e5b73f7c7a97f3e3ac4c555bdb6f1acd5fd6a0cf5a7d36f1cd\n"
          ],
          "name": "stdout"
        }
      ]
    },
    {
      "cell_type": "code",
      "metadata": {
        "colab": {
          "base_uri": "https://localhost:8080/"
        },
        "id": "IN3WlWW3m3WT",
        "outputId": "6adeab04-7c80-4349-ce09-9613f171d6a9"
      },
      "source": [
        "print(total_time_2)"
      ],
      "execution_count": null,
      "outputs": [
        {
          "output_type": "stream",
          "text": [
            "9.239111185073853\n"
          ],
          "name": "stdout"
        }
      ]
    }
  ]
}